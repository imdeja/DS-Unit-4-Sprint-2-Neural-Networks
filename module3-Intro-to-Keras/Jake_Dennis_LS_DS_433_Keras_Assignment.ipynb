{
  "nbformat": 4,
  "nbformat_minor": 0,
  "metadata": {
    "colab": {
      "name": "Jake_Dennis_LS_DS_433_Keras_Assignment.ipynb",
      "provenance": [],
      "include_colab_link": true
    },
    "kernelspec": {
      "display_name": "Python 3",
      "language": "python",
      "name": "python3"
    },
    "language_info": {
      "codemirror_mode": {
        "name": "ipython",
        "version": 3
      },
      "file_extension": ".py",
      "mimetype": "text/x-python",
      "name": "python",
      "nbconvert_exporter": "python",
      "pygments_lexer": "ipython3",
      "version": "3.7.3"
    }
  },
  "cells": [
    {
      "cell_type": "markdown",
      "metadata": {
        "id": "view-in-github",
        "colab_type": "text"
      },
      "source": [
        "<a href=\"https://colab.research.google.com/github/imdeja/DS-Unit-4-Sprint-2-Neural-Networks/blob/master/module3-Intro-to-Keras/Jake_Dennis_LS_DS_433_Keras_Assignment.ipynb\" target=\"_parent\"><img src=\"https://colab.research.google.com/assets/colab-badge.svg\" alt=\"Open In Colab\"/></a>"
      ]
    },
    {
      "cell_type": "markdown",
      "metadata": {
        "colab_type": "text",
        "id": "pBQsZEJmubLs"
      },
      "source": [
        "<img align=\"left\" src=\"https://lever-client-logos.s3.amazonaws.com/864372b1-534c-480e-acd5-9711f850815c-1524247202159.png\" width=200>\n",
        "<br></br>\n",
        "\n",
        "# Neural Network Framework (Keras)\n",
        "\n",
        "## *Data Science Unit 4 Sprint 2 Assignment 3*\n",
        "\n",
        "## Use the Keras Library to build a Multi-Layer Perceptron Model on the Boston Housing dataset\n",
        "\n",
        "- The Boston Housing dataset comes with the Keras library so use Keras to import it into your notebook. \n",
        "- Normalize the data (all features should have roughly the same scale)\n",
        "- Import the type of model and layers that you will need from Keras.\n",
        "- Instantiate a model object and use `model.add()` to add layers to your model\n",
        "- Since this is a regression model you will have a single output node in the final layer.\n",
        "- Use activation functions that are appropriate for this task\n",
        "- Compile your model\n",
        "- Fit your model and report its accuracy in terms of Mean Squared Error\n",
        "- Use the history object that is returned from model.fit to make graphs of the model's loss or train/validation accuracies by epoch. \n",
        "- Run this same data through a linear regression model. Which achieves higher accuracy?\n",
        "- Do a little bit of feature engineering and see how that affects your neural network model. (you will need to change your model to accept more inputs)\n",
        "- After feature engineering, which model sees a greater accuracy boost due to the new features?"
      ]
    },
    {
      "cell_type": "code",
      "metadata": {
        "colab_type": "code",
        "id": "8NLTAR87uYJ-",
        "colab": {
          "base_uri": "https://localhost:8080/",
          "height": 51
        },
        "outputId": "ab678c7e-32a8-441c-9e68-8e4090114ab7"
      },
      "source": [
        "import numpy as np\n",
        "from tensorflow import keras\n",
        "from tensorflow.keras.datasets import boston_housing\n",
        "(X_train, y_train), (X_test, y_test) = boston_housing.load_data()"
      ],
      "execution_count": 4,
      "outputs": [
        {
          "output_type": "stream",
          "text": [
            "Downloading data from https://storage.googleapis.com/tensorflow/tf-keras-datasets/boston_housing.npz\n",
            "57344/57026 [==============================] - 0s 0us/step\n"
          ],
          "name": "stdout"
        }
      ]
    },
    {
      "cell_type": "code",
      "metadata": {
        "id": "vkHv5Zkq-6Zi",
        "colab_type": "code",
        "colab": {
          "base_uri": "https://localhost:8080/",
          "height": 34
        },
        "outputId": "b878ee38-c018-44e5-acbe-b75da6783176"
      },
      "source": [
        "X_train = keras.utils.normalize(X_train)\n",
        "X_test = keras.utils.normalize(X_test)\n",
        "X_train.shape, y_train.shape"
      ],
      "execution_count": 5,
      "outputs": [
        {
          "output_type": "execute_result",
          "data": {
            "text/plain": [
              "((404, 13), (404,))"
            ]
          },
          "metadata": {
            "tags": []
          },
          "execution_count": 5
        }
      ]
    },
    {
      "cell_type": "code",
      "metadata": {
        "id": "xJKGEGru-9n_",
        "colab_type": "code",
        "colab": {}
      },
      "source": [
        "import os\n",
        "import datetime\n",
        "import tensorflow as tf\n",
        "from tensorflow.keras import regularizers\n",
        "from tensorflow.keras.models import Sequential\n",
        "from tensorflow.keras.layers import Dense, Flatten, Dropout\n",
        "from tensorflow.keras.callbacks import EarlyStopping\n",
        "from sklearn.preprocessing import MinMaxScaler"
      ],
      "execution_count": 0,
      "outputs": []
    },
    {
      "cell_type": "code",
      "metadata": {
        "id": "CUaXJOcj_FKI",
        "colab_type": "code",
        "colab": {
          "base_uri": "https://localhost:8080/",
          "height": 1000
        },
        "outputId": "9db8bc6a-ce68-4ed0-84cf-7050196f79b3"
      },
      "source": [
        "# Instantiate a model object and use model.add() to add layers to your model\n",
        "logdir = os.path.join(\"logs\", datetime.datetime.now().strftime(\"%Y%m%d-%H%M%S\"))\n",
        "tensorboard_callback = tf.keras.callbacks.TensorBoard(logdir, histogram_freq=1)\n",
        "\n",
        "stop = EarlyStopping(monitor='val_loss', min_delta=0.01, patience=3)\n",
        "\n",
        "model = Sequential()\n",
        "model.add(Dense(14, input_shape=(13,), activation='relu')) #elu 10\n",
        "model.add(Dense(54, activation='relu')) \n",
        "model.add(Dense(1, activation='relu'))\n",
        "\n",
        "# Compile your model\n",
        "model.compile(loss='mean_absolute_error', optimizer='adam', metrics=['MeanSquaredError'])\n",
        "\n",
        "# Fit your model and report its accuracy in terms of Mean Squared Error\n",
        "history = model.fit(X_train, y_train, epochs=100, validation_data=(X_test, y_test), callbacks=[tensorboard_callback, stop])"
      ],
      "execution_count": 7,
      "outputs": [
        {
          "output_type": "stream",
          "text": [
            "Epoch 1/100\n",
            "13/13 [==============================] - 0s 17ms/step - loss: 22.3374 - mean_squared_error: 583.7354 - val_loss: 22.8951 - val_mean_squared_error: 607.5292\n",
            "Epoch 2/100\n",
            "13/13 [==============================] - 0s 5ms/step - loss: 22.0817 - mean_squared_error: 572.2263 - val_loss: 22.5970 - val_mean_squared_error: 593.6564\n",
            "Epoch 3/100\n",
            "13/13 [==============================] - 0s 5ms/step - loss: 21.7467 - mean_squared_error: 557.2849 - val_loss: 22.2081 - val_mean_squared_error: 576.1019\n",
            "Epoch 4/100\n",
            "13/13 [==============================] - 0s 5ms/step - loss: 21.2989 - mean_squared_error: 537.9429 - val_loss: 21.6726 - val_mean_squared_error: 552.4790\n",
            "Epoch 5/100\n",
            "13/13 [==============================] - 0s 5ms/step - loss: 20.6716 - mean_squared_error: 511.4233 - val_loss: 20.9217 - val_mean_squared_error: 520.3428\n",
            "Epoch 6/100\n",
            "13/13 [==============================] - 0s 5ms/step - loss: 19.8066 - mean_squared_error: 476.2785 - val_loss: 19.9031 - val_mean_squared_error: 478.4771\n",
            "Epoch 7/100\n",
            "13/13 [==============================] - 0s 5ms/step - loss: 18.6468 - mean_squared_error: 430.9337 - val_loss: 18.5613 - val_mean_squared_error: 426.6716\n",
            "Epoch 8/100\n",
            "13/13 [==============================] - 0s 5ms/step - loss: 17.1341 - mean_squared_error: 376.8940 - val_loss: 16.8271 - val_mean_squared_error: 364.7637\n",
            "Epoch 9/100\n",
            "13/13 [==============================] - 0s 5ms/step - loss: 15.1895 - mean_squared_error: 313.7523 - val_loss: 14.7082 - val_mean_squared_error: 294.2131\n",
            "Epoch 10/100\n",
            "13/13 [==============================] - 0s 4ms/step - loss: 12.8151 - mean_squared_error: 244.8234 - val_loss: 12.3155 - val_mean_squared_error: 220.8840\n",
            "Epoch 11/100\n",
            "13/13 [==============================] - 0s 5ms/step - loss: 10.1645 - mean_squared_error: 178.3531 - val_loss: 9.8336 - val_mean_squared_error: 155.3569\n",
            "Epoch 12/100\n",
            "13/13 [==============================] - 0s 5ms/step - loss: 7.8607 - mean_squared_error: 123.0021 - val_loss: 7.7902 - val_mean_squared_error: 108.9544\n",
            "Epoch 13/100\n",
            "13/13 [==============================] - 0s 5ms/step - loss: 6.5714 - mean_squared_error: 92.9625 - val_loss: 6.6430 - val_mean_squared_error: 87.6453\n",
            "Epoch 14/100\n",
            "13/13 [==============================] - 0s 5ms/step - loss: 6.3292 - mean_squared_error: 82.8203 - val_loss: 6.4059 - val_mean_squared_error: 81.9966\n",
            "Epoch 15/100\n",
            "13/13 [==============================] - 0s 5ms/step - loss: 6.2934 - mean_squared_error: 80.4608 - val_loss: 6.3748 - val_mean_squared_error: 81.3364\n",
            "Epoch 16/100\n",
            "13/13 [==============================] - 0s 6ms/step - loss: 6.2393 - mean_squared_error: 80.4048 - val_loss: 6.3833 - val_mean_squared_error: 82.2303\n",
            "Epoch 17/100\n",
            "13/13 [==============================] - 0s 5ms/step - loss: 6.1911 - mean_squared_error: 80.3837 - val_loss: 6.3791 - val_mean_squared_error: 82.2563\n",
            "Epoch 18/100\n",
            "13/13 [==============================] - 0s 5ms/step - loss: 6.1559 - mean_squared_error: 79.9501 - val_loss: 6.3407 - val_mean_squared_error: 81.4141\n",
            "Epoch 19/100\n",
            "13/13 [==============================] - 0s 5ms/step - loss: 6.1160 - mean_squared_error: 79.6274 - val_loss: 6.3446 - val_mean_squared_error: 81.3826\n",
            "Epoch 20/100\n",
            "13/13 [==============================] - 0s 5ms/step - loss: 6.0734 - mean_squared_error: 79.0247 - val_loss: 6.3064 - val_mean_squared_error: 80.5108\n",
            "Epoch 21/100\n",
            "13/13 [==============================] - 0s 5ms/step - loss: 6.0398 - mean_squared_error: 78.1675 - val_loss: 6.2733 - val_mean_squared_error: 79.7057\n",
            "Epoch 22/100\n",
            "13/13 [==============================] - 0s 5ms/step - loss: 5.9964 - mean_squared_error: 77.7875 - val_loss: 6.2711 - val_mean_squared_error: 79.5547\n",
            "Epoch 23/100\n",
            "13/13 [==============================] - 0s 5ms/step - loss: 5.9662 - mean_squared_error: 77.3313 - val_loss: 6.2134 - val_mean_squared_error: 78.1850\n",
            "Epoch 24/100\n",
            "13/13 [==============================] - 0s 5ms/step - loss: 5.9249 - mean_squared_error: 76.2030 - val_loss: 6.1902 - val_mean_squared_error: 77.5782\n",
            "Epoch 25/100\n",
            "13/13 [==============================] - 0s 4ms/step - loss: 5.8841 - mean_squared_error: 75.9969 - val_loss: 6.2001 - val_mean_squared_error: 77.7083\n",
            "Epoch 26/100\n",
            "13/13 [==============================] - 0s 5ms/step - loss: 5.8520 - mean_squared_error: 75.8934 - val_loss: 6.1983 - val_mean_squared_error: 77.5961\n",
            "Epoch 27/100\n",
            "13/13 [==============================] - 0s 5ms/step - loss: 5.8149 - mean_squared_error: 75.1206 - val_loss: 6.1410 - val_mean_squared_error: 76.2628\n",
            "Epoch 28/100\n",
            "13/13 [==============================] - 0s 5ms/step - loss: 5.7783 - mean_squared_error: 74.3342 - val_loss: 6.1212 - val_mean_squared_error: 75.7504\n",
            "Epoch 29/100\n",
            "13/13 [==============================] - 0s 5ms/step - loss: 5.7474 - mean_squared_error: 74.0406 - val_loss: 6.1126 - val_mean_squared_error: 75.4821\n",
            "Epoch 30/100\n",
            "13/13 [==============================] - 0s 4ms/step - loss: 5.7161 - mean_squared_error: 73.5798 - val_loss: 6.0867 - val_mean_squared_error: 74.8443\n",
            "Epoch 31/100\n",
            "13/13 [==============================] - 0s 4ms/step - loss: 5.6837 - mean_squared_error: 72.6819 - val_loss: 6.0341 - val_mean_squared_error: 73.6433\n",
            "Epoch 32/100\n",
            "13/13 [==============================] - 0s 5ms/step - loss: 5.6553 - mean_squared_error: 71.9860 - val_loss: 6.0145 - val_mean_squared_error: 73.1604\n",
            "Epoch 33/100\n",
            "13/13 [==============================] - 0s 5ms/step - loss: 5.6233 - mean_squared_error: 71.8373 - val_loss: 6.0304 - val_mean_squared_error: 73.4479\n",
            "Epoch 34/100\n",
            "13/13 [==============================] - 0s 5ms/step - loss: 5.5971 - mean_squared_error: 71.9296 - val_loss: 6.0041 - val_mean_squared_error: 72.8315\n",
            "Epoch 35/100\n",
            "13/13 [==============================] - 0s 4ms/step - loss: 5.5680 - mean_squared_error: 71.4923 - val_loss: 6.0068 - val_mean_squared_error: 72.8229\n",
            "Epoch 36/100\n",
            "13/13 [==============================] - 0s 5ms/step - loss: 5.5385 - mean_squared_error: 70.3801 - val_loss: 5.9232 - val_mean_squared_error: 70.9855\n",
            "Epoch 37/100\n",
            "13/13 [==============================] - 0s 5ms/step - loss: 5.5132 - mean_squared_error: 70.0143 - val_loss: 5.9698 - val_mean_squared_error: 71.9475\n",
            "Epoch 38/100\n",
            "13/13 [==============================] - 0s 5ms/step - loss: 5.4859 - mean_squared_error: 70.3270 - val_loss: 5.9414 - val_mean_squared_error: 71.3241\n",
            "Epoch 39/100\n",
            "13/13 [==============================] - 0s 5ms/step - loss: 5.4687 - mean_squared_error: 69.3274 - val_loss: 5.8837 - val_mean_squared_error: 70.0017\n",
            "Epoch 40/100\n",
            "13/13 [==============================] - 0s 5ms/step - loss: 5.4529 - mean_squared_error: 69.6199 - val_loss: 5.9462 - val_mean_squared_error: 71.3205\n",
            "Epoch 41/100\n",
            "13/13 [==============================] - 0s 5ms/step - loss: 5.4206 - mean_squared_error: 69.2108 - val_loss: 5.8732 - val_mean_squared_error: 69.6616\n",
            "Epoch 42/100\n",
            "13/13 [==============================] - 0s 4ms/step - loss: 5.3993 - mean_squared_error: 68.2207 - val_loss: 5.8668 - val_mean_squared_error: 69.4327\n",
            "Epoch 43/100\n",
            "13/13 [==============================] - 0s 5ms/step - loss: 5.3891 - mean_squared_error: 68.4959 - val_loss: 5.8850 - val_mean_squared_error: 69.7769\n",
            "Epoch 44/100\n",
            "13/13 [==============================] - 0s 5ms/step - loss: 5.3648 - mean_squared_error: 68.3126 - val_loss: 5.8698 - val_mean_squared_error: 69.3696\n"
          ],
          "name": "stdout"
        }
      ]
    },
    {
      "cell_type": "code",
      "metadata": {
        "id": "4TfrLHng_Iw4",
        "colab_type": "code",
        "colab": {
          "base_uri": "https://localhost:8080/",
          "height": 1000
        },
        "outputId": "adb4b1d6-b9f3-4eb9-c196-093b1491cb31"
      },
      "source": [
        "scaler = MinMaxScaler()\n",
        "\n",
        "X_train_scaled = scaler.fit_transform(X_train)\n",
        "X_test_scaled = scaler.transform(X_test)\n",
        "\n",
        "\n",
        "ogdir = os.path.join(\"logs\", datetime.datetime.now().strftime(\"%Y%m%d-%H%M%S\"))\n",
        "tensorboard_callback = tf.keras.callbacks.TensorBoard(logdir, histogram_freq=1)\n",
        "\n",
        "stop = EarlyStopping(monitor='mse', min_delta=0.01, patience=3)\n",
        "\n",
        "model = Sequential([\n",
        "    Flatten(),\n",
        "    Dense(32, input_dim = 404, activation='elu'),\n",
        "    Dense(32, activation='elu'),\n",
        "    Dense(1)\n",
        "])\n",
        "\n",
        "# Complile the model (report accuracy in terms of Mean Squared Error)\n",
        "model.compile(loss='mae', optimizer='adam', metrics=['mse'])\n",
        "\n",
        "# Fit the model \n",
        "history = model.fit(\n",
        "    x = X_train_scaled,\n",
        "    y = y_train,\n",
        "    epochs = 100,\n",
        "    validation_data = (X_test_scaled, y_test),\n",
        "    callbacks = [tensorboard_callback, stop], \n",
        ")"
      ],
      "execution_count": 8,
      "outputs": [
        {
          "output_type": "stream",
          "text": [
            "Epoch 1/100\n",
            "13/13 [==============================] - 0s 12ms/step - loss: 22.2433 - mse: 581.3000 - val_loss: 22.2574 - val_mse: 579.9581\n",
            "Epoch 2/100\n",
            "13/13 [==============================] - 0s 5ms/step - loss: 20.9584 - mse: 525.3644 - val_loss: 20.8761 - val_mse: 520.1268\n",
            "Epoch 3/100\n",
            "13/13 [==============================] - 0s 5ms/step - loss: 19.4242 - mse: 463.2597 - val_loss: 19.1494 - val_mse: 450.7133\n",
            "Epoch 4/100\n",
            "13/13 [==============================] - 0s 5ms/step - loss: 17.4711 - mse: 392.3913 - val_loss: 16.9465 - val_mse: 370.7917\n",
            "Epoch 5/100\n",
            "13/13 [==============================] - 0s 5ms/step - loss: 14.9983 - mse: 310.7842 - val_loss: 14.2779 - val_mse: 282.4120\n",
            "Epoch 6/100\n",
            "13/13 [==============================] - 0s 5ms/step - loss: 12.0606 - mse: 227.2547 - val_loss: 11.2860 - val_mse: 194.0828\n",
            "Epoch 7/100\n",
            "13/13 [==============================] - 0s 5ms/step - loss: 9.1284 - mse: 153.1733 - val_loss: 8.6859 - val_mse: 127.4940\n",
            "Epoch 8/100\n",
            "13/13 [==============================] - 0s 5ms/step - loss: 7.3183 - mse: 108.2951 - val_loss: 7.1052 - val_mse: 92.9172\n",
            "Epoch 9/100\n",
            "13/13 [==============================] - 0s 6ms/step - loss: 6.8282 - mse: 90.0765 - val_loss: 6.6067 - val_mse: 83.6641\n",
            "Epoch 10/100\n",
            "13/13 [==============================] - 0s 5ms/step - loss: 6.6881 - mse: 86.4374 - val_loss: 6.5667 - val_mse: 82.0093\n",
            "Epoch 11/100\n",
            "13/13 [==============================] - 0s 5ms/step - loss: 6.5090 - mse: 84.0770 - val_loss: 6.5207 - val_mse: 80.3633\n",
            "Epoch 12/100\n",
            "13/13 [==============================] - 0s 5ms/step - loss: 6.3508 - mse: 82.5358 - val_loss: 6.5514 - val_mse: 80.6617\n",
            "Epoch 13/100\n",
            "13/13 [==============================] - 0s 4ms/step - loss: 6.1937 - mse: 81.1276 - val_loss: 6.4547 - val_mse: 78.4170\n",
            "Epoch 14/100\n",
            "13/13 [==============================] - 0s 5ms/step - loss: 6.0529 - mse: 79.0650 - val_loss: 6.3585 - val_mse: 76.3201\n",
            "Epoch 15/100\n",
            "13/13 [==============================] - 0s 5ms/step - loss: 5.9243 - mse: 75.9744 - val_loss: 6.1530 - val_mse: 71.7320\n",
            "Epoch 16/100\n",
            "13/13 [==============================] - 0s 5ms/step - loss: 5.7690 - mse: 73.1162 - val_loss: 6.1186 - val_mse: 71.1213\n",
            "Epoch 17/100\n",
            "13/13 [==============================] - 0s 4ms/step - loss: 5.6507 - mse: 71.7979 - val_loss: 6.0482 - val_mse: 69.7087\n",
            "Epoch 18/100\n",
            "13/13 [==============================] - 0s 5ms/step - loss: 5.5225 - mse: 69.6780 - val_loss: 5.9662 - val_mse: 67.4812\n",
            "Epoch 19/100\n",
            "13/13 [==============================] - 0s 5ms/step - loss: 5.4148 - mse: 68.3628 - val_loss: 5.9154 - val_mse: 66.7072\n",
            "Epoch 20/100\n",
            "13/13 [==============================] - 0s 4ms/step - loss: 5.3143 - mse: 67.6046 - val_loss: 5.8693 - val_mse: 66.0298\n",
            "Epoch 21/100\n",
            "13/13 [==============================] - 0s 5ms/step - loss: 5.2309 - mse: 65.7009 - val_loss: 5.7456 - val_mse: 62.6518\n",
            "Epoch 22/100\n",
            "13/13 [==============================] - 0s 5ms/step - loss: 5.1451 - mse: 63.7918 - val_loss: 5.7136 - val_mse: 62.7405\n",
            "Epoch 23/100\n",
            "13/13 [==============================] - 0s 5ms/step - loss: 5.0728 - mse: 63.4032 - val_loss: 5.6665 - val_mse: 61.9733\n",
            "Epoch 24/100\n",
            "13/13 [==============================] - 0s 5ms/step - loss: 5.0178 - mse: 62.4108 - val_loss: 5.5858 - val_mse: 60.2458\n",
            "Epoch 25/100\n",
            "13/13 [==============================] - 0s 5ms/step - loss: 4.9694 - mse: 60.2888 - val_loss: 5.5100 - val_mse: 58.4536\n",
            "Epoch 26/100\n",
            "13/13 [==============================] - 0s 5ms/step - loss: 4.9133 - mse: 59.8071 - val_loss: 5.4786 - val_mse: 58.3263\n",
            "Epoch 27/100\n",
            "13/13 [==============================] - 0s 5ms/step - loss: 4.8622 - mse: 58.1646 - val_loss: 5.4143 - val_mse: 57.0980\n",
            "Epoch 28/100\n",
            "13/13 [==============================] - 0s 5ms/step - loss: 4.7987 - mse: 58.0882 - val_loss: 5.3894 - val_mse: 57.2226\n",
            "Epoch 29/100\n",
            "13/13 [==============================] - 0s 5ms/step - loss: 4.7551 - mse: 56.3249 - val_loss: 5.3038 - val_mse: 55.3860\n",
            "Epoch 30/100\n",
            "13/13 [==============================] - 0s 5ms/step - loss: 4.6909 - mse: 55.7105 - val_loss: 5.2774 - val_mse: 55.5949\n",
            "Epoch 31/100\n",
            "13/13 [==============================] - 0s 5ms/step - loss: 4.6409 - mse: 55.2275 - val_loss: 5.1873 - val_mse: 53.5390\n",
            "Epoch 32/100\n",
            "13/13 [==============================] - 0s 5ms/step - loss: 4.5821 - mse: 53.5862 - val_loss: 5.1391 - val_mse: 52.9115\n",
            "Epoch 33/100\n",
            "13/13 [==============================] - 0s 5ms/step - loss: 4.5343 - mse: 52.2562 - val_loss: 5.0761 - val_mse: 51.9620\n",
            "Epoch 34/100\n",
            "13/13 [==============================] - 0s 5ms/step - loss: 4.4848 - mse: 52.2570 - val_loss: 5.0253 - val_mse: 51.2970\n",
            "Epoch 35/100\n",
            "13/13 [==============================] - 0s 5ms/step - loss: 4.4418 - mse: 50.0054 - val_loss: 4.9304 - val_mse: 49.2642\n",
            "Epoch 36/100\n",
            "13/13 [==============================] - 0s 4ms/step - loss: 4.4216 - mse: 50.7179 - val_loss: 4.8886 - val_mse: 48.8305\n",
            "Epoch 37/100\n",
            "13/13 [==============================] - 0s 5ms/step - loss: 4.3454 - mse: 48.0574 - val_loss: 4.8151 - val_mse: 47.4486\n",
            "Epoch 38/100\n",
            "13/13 [==============================] - 0s 5ms/step - loss: 4.3021 - mse: 48.5362 - val_loss: 4.8120 - val_mse: 47.9295\n",
            "Epoch 39/100\n",
            "13/13 [==============================] - 0s 5ms/step - loss: 4.2392 - mse: 46.6500 - val_loss: 4.7071 - val_mse: 45.6324\n",
            "Epoch 40/100\n",
            "13/13 [==============================] - 0s 4ms/step - loss: 4.1969 - mse: 45.3607 - val_loss: 4.7093 - val_mse: 46.2678\n",
            "Epoch 41/100\n",
            "13/13 [==============================] - 0s 5ms/step - loss: 4.1840 - mse: 46.0302 - val_loss: 4.5934 - val_mse: 43.8816\n",
            "Epoch 42/100\n",
            "13/13 [==============================] - 0s 5ms/step - loss: 4.1182 - mse: 43.9893 - val_loss: 4.5771 - val_mse: 43.9368\n",
            "Epoch 43/100\n",
            "13/13 [==============================] - 0s 4ms/step - loss: 4.0707 - mse: 43.3753 - val_loss: 4.4728 - val_mse: 42.0109\n",
            "Epoch 44/100\n",
            "13/13 [==============================] - 0s 5ms/step - loss: 4.0426 - mse: 41.9028 - val_loss: 4.4474 - val_mse: 41.9007\n",
            "Epoch 45/100\n",
            "13/13 [==============================] - 0s 5ms/step - loss: 4.0121 - mse: 42.9353 - val_loss: 4.3939 - val_mse: 41.0570\n",
            "Epoch 46/100\n",
            "13/13 [==============================] - 0s 5ms/step - loss: 3.9660 - mse: 40.7649 - val_loss: 4.3088 - val_mse: 39.6379\n",
            "Epoch 47/100\n",
            "13/13 [==============================] - 0s 5ms/step - loss: 3.9182 - mse: 39.9147 - val_loss: 4.2776 - val_mse: 39.2030\n",
            "Epoch 48/100\n",
            "13/13 [==============================] - 0s 5ms/step - loss: 3.9078 - mse: 40.2760 - val_loss: 4.1430 - val_mse: 37.0376\n",
            "Epoch 49/100\n",
            "13/13 [==============================] - 0s 4ms/step - loss: 3.8454 - mse: 38.1832 - val_loss: 4.1405 - val_mse: 37.0675\n",
            "Epoch 50/100\n",
            "13/13 [==============================] - 0s 5ms/step - loss: 3.8081 - mse: 37.7877 - val_loss: 4.0741 - val_mse: 35.9673\n",
            "Epoch 51/100\n",
            "13/13 [==============================] - 0s 5ms/step - loss: 3.7886 - mse: 37.5412 - val_loss: 4.0222 - val_mse: 35.1576\n",
            "Epoch 52/100\n",
            "13/13 [==============================] - 0s 5ms/step - loss: 3.7710 - mse: 36.3480 - val_loss: 4.0501 - val_mse: 35.8745\n",
            "Epoch 53/100\n",
            "13/13 [==============================] - 0s 5ms/step - loss: 3.7514 - mse: 36.3223 - val_loss: 3.8951 - val_mse: 33.3436\n",
            "Epoch 54/100\n",
            "13/13 [==============================] - 0s 5ms/step - loss: 3.6957 - mse: 34.9174 - val_loss: 3.8712 - val_mse: 33.1131\n",
            "Epoch 55/100\n",
            "13/13 [==============================] - 0s 5ms/step - loss: 3.6810 - mse: 35.1251 - val_loss: 3.7762 - val_mse: 31.3783\n",
            "Epoch 56/100\n",
            "13/13 [==============================] - 0s 5ms/step - loss: 3.6476 - mse: 33.6394 - val_loss: 3.7775 - val_mse: 31.7095\n",
            "Epoch 57/100\n",
            "13/13 [==============================] - 0s 5ms/step - loss: 3.6377 - mse: 34.7103 - val_loss: 3.7228 - val_mse: 30.7411\n",
            "Epoch 58/100\n",
            "13/13 [==============================] - 0s 5ms/step - loss: 3.6630 - mse: 32.2688 - val_loss: 3.7198 - val_mse: 30.7637\n",
            "Epoch 59/100\n",
            "13/13 [==============================] - 0s 4ms/step - loss: 3.5880 - mse: 33.5067 - val_loss: 3.6637 - val_mse: 29.6551\n",
            "Epoch 60/100\n",
            "13/13 [==============================] - 0s 5ms/step - loss: 3.5605 - mse: 31.5205 - val_loss: 3.6331 - val_mse: 29.2285\n",
            "Epoch 61/100\n",
            "13/13 [==============================] - 0s 5ms/step - loss: 3.5220 - mse: 31.9307 - val_loss: 3.5989 - val_mse: 28.3292\n",
            "Epoch 62/100\n",
            "13/13 [==============================] - 0s 5ms/step - loss: 3.5210 - mse: 31.0592 - val_loss: 3.5968 - val_mse: 28.7357\n",
            "Epoch 63/100\n",
            "13/13 [==============================] - 0s 5ms/step - loss: 3.4829 - mse: 30.4023 - val_loss: 3.5336 - val_mse: 27.4169\n",
            "Epoch 64/100\n",
            "13/13 [==============================] - 0s 4ms/step - loss: 3.4824 - mse: 31.4896 - val_loss: 3.4954 - val_mse: 26.7780\n",
            "Epoch 65/100\n",
            "13/13 [==============================] - 0s 5ms/step - loss: 3.4507 - mse: 29.7216 - val_loss: 3.5274 - val_mse: 27.9269\n",
            "Epoch 66/100\n",
            "13/13 [==============================] - 0s 5ms/step - loss: 3.4351 - mse: 30.1634 - val_loss: 3.4735 - val_mse: 26.8185\n",
            "Epoch 67/100\n",
            "13/13 [==============================] - 0s 5ms/step - loss: 3.4029 - mse: 29.3733 - val_loss: 3.4262 - val_mse: 25.7706\n",
            "Epoch 68/100\n",
            "13/13 [==============================] - 0s 5ms/step - loss: 3.3733 - mse: 29.1288 - val_loss: 3.4228 - val_mse: 26.1106\n",
            "Epoch 69/100\n",
            "13/13 [==============================] - 0s 5ms/step - loss: 3.3606 - mse: 29.1124 - val_loss: 3.3752 - val_mse: 24.8928\n",
            "Epoch 70/100\n",
            "13/13 [==============================] - 0s 5ms/step - loss: 3.3613 - mse: 28.2484 - val_loss: 3.3489 - val_mse: 24.6033\n",
            "Epoch 71/100\n",
            "13/13 [==============================] - 0s 5ms/step - loss: 3.3356 - mse: 27.8831 - val_loss: 3.3327 - val_mse: 24.2656\n",
            "Epoch 72/100\n",
            "13/13 [==============================] - 0s 5ms/step - loss: 3.3312 - mse: 27.7537 - val_loss: 3.3337 - val_mse: 24.3990\n",
            "Epoch 73/100\n",
            "13/13 [==============================] - 0s 5ms/step - loss: 3.3239 - mse: 27.8195 - val_loss: 3.2847 - val_mse: 23.2451\n",
            "Epoch 74/100\n",
            "13/13 [==============================] - 0s 5ms/step - loss: 3.3019 - mse: 27.1856 - val_loss: 3.3181 - val_mse: 24.0439\n",
            "Epoch 75/100\n",
            "13/13 [==============================] - 0s 5ms/step - loss: 3.2967 - mse: 27.9715 - val_loss: 3.2706 - val_mse: 22.3429\n",
            "Epoch 76/100\n",
            "13/13 [==============================] - 0s 5ms/step - loss: 3.3201 - mse: 26.2621 - val_loss: 3.2992 - val_mse: 23.6103\n",
            "Epoch 77/100\n",
            "13/13 [==============================] - 0s 5ms/step - loss: 3.2698 - mse: 27.2514 - val_loss: 3.2487 - val_mse: 22.1531\n",
            "Epoch 78/100\n",
            "13/13 [==============================] - 0s 5ms/step - loss: 3.2835 - mse: 26.5066 - val_loss: 3.2342 - val_mse: 22.6691\n",
            "Epoch 79/100\n",
            "13/13 [==============================] - 0s 5ms/step - loss: 3.2526 - mse: 27.2013 - val_loss: 3.2213 - val_mse: 21.6258\n"
          ],
          "name": "stdout"
        }
      ]
    },
    {
      "cell_type": "code",
      "metadata": {
        "id": "3cqDFUxq_Mb4",
        "colab_type": "code",
        "colab": {
          "base_uri": "https://localhost:8080/",
          "height": 34
        },
        "outputId": "b851c97f-5a8a-4e9d-abdd-e96d3d76514b"
      },
      "source": [
        "print(history.history.keys())"
      ],
      "execution_count": 9,
      "outputs": [
        {
          "output_type": "stream",
          "text": [
            "dict_keys(['loss', 'mse', 'val_loss', 'val_mse'])\n"
          ],
          "name": "stdout"
        }
      ]
    },
    {
      "cell_type": "code",
      "metadata": {
        "id": "RGTKTHHb_NSy",
        "colab_type": "code",
        "colab": {
          "base_uri": "https://localhost:8080/",
          "height": 295
        },
        "outputId": "61a1cac5-f73c-4c74-e043-319321cea6be"
      },
      "source": [
        "import matplotlib.pyplot as plt\n",
        "\n",
        "plt.plot(history.history['loss'])\n",
        "plt.plot(history.history['val_loss'])\n",
        "# plt.plot(history.history['mean_squared_error'])\n",
        "# plt.plot(history.history['val_mean_squared_error'])\n",
        "plt.title('Model Loss and MSE')\n",
        "plt.ylabel('Loss')\n",
        "plt.xlabel('Epoch')\n",
        "plt.legend(['train', 'test'], loc='upper right')\n",
        "plt.show();"
      ],
      "execution_count": 10,
      "outputs": [
        {
          "output_type": "display_data",
          "data": {
            "image/png": "[encoded data removed]",
            "text/plain": [
              "<Figure size 432x288 with 1 Axes>"
            ]
          },
          "metadata": {
            "tags": [],
            "needs_background": "light"
          }
        }
      ]
    },
    {
      "cell_type": "code",
      "metadata": {
        "id": "WE-Gdizf_S3I",
        "colab_type": "code",
        "colab": {
          "base_uri": "https://localhost:8080/",
          "height": 34
        },
        "outputId": "19bb7e98-fc6e-4581-9d99-31a15c86297b"
      },
      "source": [
        "from sklearn.linear_model import LinearRegression\n",
        "from sklearn.metrics import mean_squared_error as mse\n",
        "\n",
        "(X_train, y_train), (X_test, y_test) = boston_housing.load_data()\n",
        "\n",
        "scaler = MinMaxScaler()\n",
        "\n",
        "X_train_scaled = scaler.fit_transform(X_train)\n",
        "X_test_scaled = scaler.transform(X_test)\n",
        "\n",
        "model = LinearRegression()\n",
        "model.fit(X_train_scaled, y_train)\n"
      ],
      "execution_count": 11,
      "outputs": [
        {
          "output_type": "execute_result",
          "data": {
            "text/plain": [
              "LinearRegression(copy_X=True, fit_intercept=True, n_jobs=None, normalize=False)"
            ]
          },
          "metadata": {
            "tags": []
          },
          "execution_count": 11
        }
      ]
    },
    {
      "cell_type": "code",
      "metadata": {
        "id": "nSe8ho0s_VHU",
        "colab_type": "code",
        "colab": {
          "base_uri": "https://localhost:8080/",
          "height": 34
        },
        "outputId": "f4674bc0-32d0-4f13-df9d-2fa366a3d78a"
      },
      "source": [
        "y_predict = model.predict(X_test_scaled)\n",
        "print(f'MSE: {mse(y_test, y_predict)}')\n",
        "#big improvement"
      ],
      "execution_count": 12,
      "outputs": [
        {
          "output_type": "stream",
          "text": [
            "MSE: 23.19559925642293\n"
          ],
          "name": "stdout"
        }
      ]
    },
    {
      "cell_type": "markdown",
      "metadata": {
        "colab_type": "text",
        "id": "SfcFnOONyuNm"
      },
      "source": [
        "## Use the Keras Library to build an image recognition network using the Fashion-MNIST dataset (also comes with keras)\n",
        "\n",
        "- Load and preprocess the image data similar to how we preprocessed the MNIST data in class.\n",
        "- Make sure to one-hot encode your category labels\n",
        "- The number of nodes in your output layer should equal the number of classes you want to predict for Fashion-MNIST.\n",
        "- Try different hyperparameters. What is the highest accuracy that you are able to achieve.\n",
        "- Use the history object that is returned from model.fit to make graphs of the model's loss or train/validation accuracies by epoch. \n",
        "- Remember that neural networks fall prey to randomness so you may need to run your model multiple times (or use Cross Validation) in order to tell if a change to a hyperparameter is truly producing better results."
      ]
    },
    {
      "cell_type": "code",
      "metadata": {
        "colab_type": "code",
        "id": "szi6-IpuzaH1",
        "colab": {
          "base_uri": "https://localhost:8080/",
          "height": 170
        },
        "outputId": "57dc851c-f901-43a2-dee0-15e30812b479"
      },
      "source": [
        "from tensorflow.keras.datasets import  fashion_mnist\n",
        "# Load and preprocess the image data similar to how we preprocessed the MNIST data in class.\n",
        "(X_train, y_train), (X_test, y_test) = fashion_mnist.load_data()\n",
        "\n",
        "# X variable types\n",
        "X_train = X_train.astype('float32') / 255.\n",
        "X_test = X_test.astype('float32') / 255.\n",
        "\n",
        "# Encode categorical labels\n",
        "num_classes = 10\n",
        "y_train = keras.utils.to_categorical(y_train, num_classes)\n",
        "y_test = keras.utils.to_categorical(y_test, num_classes)\n",
        "\n",
        "X_train.shape, y_train.shape"
      ],
      "execution_count": 13,
      "outputs": [
        {
          "output_type": "stream",
          "text": [
            "Downloading data from https://storage.googleapis.com/tensorflow/tf-keras-datasets/train-labels-idx1-ubyte.gz\n",
            "32768/29515 [=================================] - 0s 0us/step\n",
            "Downloading data from https://storage.googleapis.com/tensorflow/tf-keras-datasets/train-images-idx3-ubyte.gz\n",
            "26427392/26421880 [==============================] - 0s 0us/step\n",
            "Downloading data from https://storage.googleapis.com/tensorflow/tf-keras-datasets/t10k-labels-idx1-ubyte.gz\n",
            "8192/5148 [===============================================] - 0s 0us/step\n",
            "Downloading data from https://storage.googleapis.com/tensorflow/tf-keras-datasets/t10k-images-idx3-ubyte.gz\n",
            "4423680/4422102 [==============================] - 0s 0us/step\n"
          ],
          "name": "stdout"
        },
        {
          "output_type": "execute_result",
          "data": {
            "text/plain": [
              "((60000, 28, 28), (60000, 10))"
            ]
          },
          "metadata": {
            "tags": []
          },
          "execution_count": 13
        }
      ]
    },
    {
      "cell_type": "code",
      "metadata": {
        "id": "kYr1JCF-_jPf",
        "colab_type": "code",
        "colab": {
          "base_uri": "https://localhost:8080/",
          "height": 1000
        },
        "outputId": "08734064-1df3-42d6-ddb8-5f5b9f0973e6"
      },
      "source": [
        "functions = ['relu', 'elu', 'selu', 'softplus', 'softsign', 'swish', 'tanh']\n",
        "\n",
        "for activation in functions:\n",
        "  model2 = Sequential([\n",
        "      Flatten(input_shape=(28, 28)),\n",
        "      Dense(15, activation=activation),\n",
        "      Dense(10, activation='softmax')\n",
        "  ])\n",
        "\n",
        "  model2.compile(loss = 'categorical_crossentropy', optimizer='nadam', metrics=['accuracy'])\n",
        "\n",
        "  model2.fit(\n",
        "      x = X_train, \n",
        "      y = y_train,\n",
        "      epochs = 10,\n",
        "      validation_data = (X_test, y_test)\n",
        "  )"
      ],
      "execution_count": 14,
      "outputs": [
        {
          "output_type": "stream",
          "text": [
            "Epoch 1/10\n",
            "1875/1875 [==============================] - 3s 2ms/step - loss: 0.6293 - accuracy: 0.7916 - val_loss: 0.4947 - val_accuracy: 0.8241\n",
            "Epoch 2/10\n",
            "1875/1875 [==============================] - 3s 2ms/step - loss: 0.4413 - accuracy: 0.8468 - val_loss: 0.4639 - val_accuracy: 0.8392\n",
            "Epoch 3/10\n",
            "1875/1875 [==============================] - 3s 2ms/step - loss: 0.4111 - accuracy: 0.8579 - val_loss: 0.4381 - val_accuracy: 0.8464\n",
            "Epoch 4/10\n",
            "1875/1875 [==============================] - 3s 2ms/step - loss: 0.3945 - accuracy: 0.8628 - val_loss: 0.4211 - val_accuracy: 0.8509\n",
            "Epoch 5/10\n",
            "1875/1875 [==============================] - 3s 2ms/step - loss: 0.3841 - accuracy: 0.8650 - val_loss: 0.4148 - val_accuracy: 0.8560\n",
            "Epoch 6/10\n",
            "1875/1875 [==============================] - 3s 2ms/step - loss: 0.3734 - accuracy: 0.8689 - val_loss: 0.4357 - val_accuracy: 0.8512\n",
            "Epoch 7/10\n",
            "1875/1875 [==============================] - 3s 2ms/step - loss: 0.3646 - accuracy: 0.8715 - val_loss: 0.4169 - val_accuracy: 0.8537\n",
            "Epoch 8/10\n",
            "1875/1875 [==============================] - 3s 2ms/step - loss: 0.3585 - accuracy: 0.8742 - val_loss: 0.4309 - val_accuracy: 0.8540\n",
            "Epoch 9/10\n",
            "1875/1875 [==============================] - 3s 2ms/step - loss: 0.3535 - accuracy: 0.8757 - val_loss: 0.4071 - val_accuracy: 0.8569\n",
            "Epoch 10/10\n",
            "1875/1875 [==============================] - 3s 2ms/step - loss: 0.3463 - accuracy: 0.8780 - val_loss: 0.3985 - val_accuracy: 0.8623\n",
            "Epoch 1/10\n",
            "1875/1875 [==============================] - 3s 2ms/step - loss: 0.5749 - accuracy: 0.8038 - val_loss: 0.5017 - val_accuracy: 0.8244\n",
            "Epoch 2/10\n",
            "1875/1875 [==============================] - 3s 2ms/step - loss: 0.4328 - accuracy: 0.8483 - val_loss: 0.4435 - val_accuracy: 0.8433\n",
            "Epoch 3/10\n",
            "1875/1875 [==============================] - 3s 2ms/step - loss: 0.4024 - accuracy: 0.8576 - val_loss: 0.4437 - val_accuracy: 0.8430\n",
            "Epoch 4/10\n",
            "1875/1875 [==============================] - 3s 2ms/step - loss: 0.3858 - accuracy: 0.8626 - val_loss: 0.4189 - val_accuracy: 0.8516\n",
            "Epoch 5/10\n",
            "1875/1875 [==============================] - 3s 2ms/step - loss: 0.3733 - accuracy: 0.8669 - val_loss: 0.4193 - val_accuracy: 0.8520\n",
            "Epoch 6/10\n",
            "1875/1875 [==============================] - 3s 2ms/step - loss: 0.3637 - accuracy: 0.8706 - val_loss: 0.4299 - val_accuracy: 0.8464\n",
            "Epoch 7/10\n",
            "1875/1875 [==============================] - 3s 2ms/step - loss: 0.3560 - accuracy: 0.8721 - val_loss: 0.4066 - val_accuracy: 0.8570\n",
            "Epoch 8/10\n",
            "1875/1875 [==============================] - 3s 2ms/step - loss: 0.3502 - accuracy: 0.8744 - val_loss: 0.4200 - val_accuracy: 0.8529\n",
            "Epoch 9/10\n",
            "1875/1875 [==============================] - 3s 2ms/step - loss: 0.3438 - accuracy: 0.8770 - val_loss: 0.4158 - val_accuracy: 0.8504\n",
            "Epoch 10/10\n",
            "1875/1875 [==============================] - 3s 2ms/step - loss: 0.3389 - accuracy: 0.8780 - val_loss: 0.4225 - val_accuracy: 0.8502\n",
            "Epoch 1/10\n",
            "1875/1875 [==============================] - 3s 2ms/step - loss: 0.5700 - accuracy: 0.8055 - val_loss: 0.4921 - val_accuracy: 0.8258\n",
            "Epoch 2/10\n",
            "1875/1875 [==============================] - 3s 2ms/step - loss: 0.4291 - accuracy: 0.8497 - val_loss: 0.4403 - val_accuracy: 0.8453\n",
            "Epoch 3/10\n",
            "1875/1875 [==============================] - 3s 2ms/step - loss: 0.4012 - accuracy: 0.8589 - val_loss: 0.4281 - val_accuracy: 0.8472\n",
            "Epoch 4/10\n",
            "1875/1875 [==============================] - 3s 2ms/step - loss: 0.3840 - accuracy: 0.8631 - val_loss: 0.4567 - val_accuracy: 0.8316\n",
            "Epoch 5/10\n",
            "1875/1875 [==============================] - 3s 2ms/step - loss: 0.3715 - accuracy: 0.8667 - val_loss: 0.4105 - val_accuracy: 0.8521\n",
            "Epoch 6/10\n",
            "1875/1875 [==============================] - 3s 2ms/step - loss: 0.3616 - accuracy: 0.8708 - val_loss: 0.4097 - val_accuracy: 0.8526\n",
            "Epoch 7/10\n",
            "1875/1875 [==============================] - 3s 2ms/step - loss: 0.3537 - accuracy: 0.8746 - val_loss: 0.3925 - val_accuracy: 0.8574\n",
            "Epoch 8/10\n",
            "1875/1875 [==============================] - 3s 2ms/step - loss: 0.3480 - accuracy: 0.8749 - val_loss: 0.4013 - val_accuracy: 0.8562\n",
            "Epoch 9/10\n",
            "1875/1875 [==============================] - 3s 2ms/step - loss: 0.3427 - accuracy: 0.8753 - val_loss: 0.3945 - val_accuracy: 0.8579\n",
            "Epoch 10/10\n",
            "1875/1875 [==============================] - 3s 2ms/step - loss: 0.3378 - accuracy: 0.8780 - val_loss: 0.3933 - val_accuracy: 0.8572\n",
            "Epoch 1/10\n",
            "1875/1875 [==============================] - 3s 2ms/step - loss: 0.6399 - accuracy: 0.7814 - val_loss: 0.4836 - val_accuracy: 0.8304\n",
            "Epoch 2/10\n",
            "1875/1875 [==============================] - 3s 2ms/step - loss: 0.4408 - accuracy: 0.8461 - val_loss: 0.4509 - val_accuracy: 0.8398\n",
            "Epoch 3/10\n",
            "1875/1875 [==============================] - 3s 2ms/step - loss: 0.4092 - accuracy: 0.8570 - val_loss: 0.4348 - val_accuracy: 0.8475\n",
            "Epoch 4/10\n",
            "1875/1875 [==============================] - 3s 2ms/step - loss: 0.3921 - accuracy: 0.8619 - val_loss: 0.4299 - val_accuracy: 0.8484\n",
            "Epoch 5/10\n",
            "1875/1875 [==============================] - 3s 2ms/step - loss: 0.3811 - accuracy: 0.8656 - val_loss: 0.4334 - val_accuracy: 0.8465\n",
            "Epoch 6/10\n",
            "1875/1875 [==============================] - 3s 2ms/step - loss: 0.3715 - accuracy: 0.8677 - val_loss: 0.4075 - val_accuracy: 0.8561\n",
            "Epoch 7/10\n",
            "1875/1875 [==============================] - 3s 2ms/step - loss: 0.3641 - accuracy: 0.8702 - val_loss: 0.4293 - val_accuracy: 0.8471\n",
            "Epoch 8/10\n",
            "1875/1875 [==============================] - 3s 2ms/step - loss: 0.3576 - accuracy: 0.8721 - val_loss: 0.4179 - val_accuracy: 0.8561\n",
            "Epoch 9/10\n",
            "1875/1875 [==============================] - 3s 2ms/step - loss: 0.3521 - accuracy: 0.8740 - val_loss: 0.3987 - val_accuracy: 0.8600\n",
            "Epoch 10/10\n",
            "1875/1875 [==============================] - 3s 2ms/step - loss: 0.3457 - accuracy: 0.8769 - val_loss: 0.4052 - val_accuracy: 0.8588\n",
            "Epoch 1/10\n",
            "1875/1875 [==============================] - 3s 2ms/step - loss: 0.6737 - accuracy: 0.7897 - val_loss: 0.5025 - val_accuracy: 0.8246\n",
            "Epoch 2/10\n",
            "1875/1875 [==============================] - 3s 2ms/step - loss: 0.4355 - accuracy: 0.8486 - val_loss: 0.4443 - val_accuracy: 0.8423\n",
            "Epoch 3/10\n",
            "1875/1875 [==============================] - 3s 2ms/step - loss: 0.3996 - accuracy: 0.8597 - val_loss: 0.4368 - val_accuracy: 0.8447\n",
            "Epoch 4/10\n",
            "1875/1875 [==============================] - 3s 2ms/step - loss: 0.3802 - accuracy: 0.8663 - val_loss: 0.4209 - val_accuracy: 0.8496\n",
            "Epoch 5/10\n",
            "1875/1875 [==============================] - 3s 2ms/step - loss: 0.3669 - accuracy: 0.8703 - val_loss: 0.4279 - val_accuracy: 0.8511\n",
            "Epoch 6/10\n",
            "1875/1875 [==============================] - 3s 2ms/step - loss: 0.3578 - accuracy: 0.8746 - val_loss: 0.4117 - val_accuracy: 0.8581\n",
            "Epoch 7/10\n",
            "1875/1875 [==============================] - 3s 2ms/step - loss: 0.3502 - accuracy: 0.8759 - val_loss: 0.4043 - val_accuracy: 0.8581\n",
            "Epoch 8/10\n",
            "1875/1875 [==============================] - 3s 2ms/step - loss: 0.3443 - accuracy: 0.8788 - val_loss: 0.4007 - val_accuracy: 0.8573\n",
            "Epoch 9/10\n",
            "1875/1875 [==============================] - 3s 2ms/step - loss: 0.3385 - accuracy: 0.8801 - val_loss: 0.3945 - val_accuracy: 0.8649\n",
            "Epoch 10/10\n",
            "1875/1875 [==============================] - 3s 2ms/step - loss: 0.3336 - accuracy: 0.8820 - val_loss: 0.3987 - val_accuracy: 0.8611\n",
            "Epoch 1/10\n",
            "1875/1875 [==============================] - 3s 2ms/step - loss: 0.5812 - accuracy: 0.8034 - val_loss: 0.4742 - val_accuracy: 0.8362\n",
            "Epoch 2/10\n",
            "1875/1875 [==============================] - 3s 2ms/step - loss: 0.4311 - accuracy: 0.8504 - val_loss: 0.4496 - val_accuracy: 0.8410\n",
            "Epoch 3/10\n",
            "1875/1875 [==============================] - 3s 2ms/step - loss: 0.4002 - accuracy: 0.8598 - val_loss: 0.4329 - val_accuracy: 0.8480\n",
            "Epoch 4/10\n",
            "1875/1875 [==============================] - 3s 2ms/step - loss: 0.3827 - accuracy: 0.8651 - val_loss: 0.4142 - val_accuracy: 0.8558\n",
            "Epoch 5/10\n",
            "1875/1875 [==============================] - 3s 2ms/step - loss: 0.3702 - accuracy: 0.8708 - val_loss: 0.4231 - val_accuracy: 0.8524\n",
            "Epoch 6/10\n",
            "1875/1875 [==============================] - 3s 2ms/step - loss: 0.3597 - accuracy: 0.8723 - val_loss: 0.3962 - val_accuracy: 0.8604\n",
            "Epoch 7/10\n",
            "1875/1875 [==============================] - 3s 2ms/step - loss: 0.3513 - accuracy: 0.8752 - val_loss: 0.4003 - val_accuracy: 0.8585\n",
            "Epoch 8/10\n",
            "1875/1875 [==============================] - 3s 2ms/step - loss: 0.3443 - accuracy: 0.8775 - val_loss: 0.3953 - val_accuracy: 0.8623\n",
            "Epoch 9/10\n",
            "1875/1875 [==============================] - 3s 2ms/step - loss: 0.3384 - accuracy: 0.8789 - val_loss: 0.4078 - val_accuracy: 0.8555\n",
            "Epoch 10/10\n",
            "1875/1875 [==============================] - 3s 2ms/step - loss: 0.3332 - accuracy: 0.8799 - val_loss: 0.3902 - val_accuracy: 0.8636\n",
            "Epoch 1/10\n",
            "1875/1875 [==============================] - 3s 2ms/step - loss: 0.6056 - accuracy: 0.8048 - val_loss: 0.4807 - val_accuracy: 0.8316\n",
            "Epoch 2/10\n",
            "1875/1875 [==============================] - 3s 2ms/step - loss: 0.4224 - accuracy: 0.8519 - val_loss: 0.4380 - val_accuracy: 0.8465\n",
            "Epoch 3/10\n",
            "1875/1875 [==============================] - 3s 2ms/step - loss: 0.3903 - accuracy: 0.8620 - val_loss: 0.4286 - val_accuracy: 0.8499\n",
            "Epoch 4/10\n",
            "1875/1875 [==============================] - 3s 2ms/step - loss: 0.3739 - accuracy: 0.8681 - val_loss: 0.4126 - val_accuracy: 0.8559\n",
            "Epoch 5/10\n",
            "1875/1875 [==============================] - 3s 2ms/step - loss: 0.3619 - accuracy: 0.8719 - val_loss: 0.4119 - val_accuracy: 0.8535\n",
            "Epoch 6/10\n",
            "1875/1875 [==============================] - 3s 2ms/step - loss: 0.3524 - accuracy: 0.8759 - val_loss: 0.4039 - val_accuracy: 0.8549\n",
            "Epoch 7/10\n",
            "1875/1875 [==============================] - 3s 2ms/step - loss: 0.3455 - accuracy: 0.8777 - val_loss: 0.4079 - val_accuracy: 0.8564\n",
            "Epoch 8/10\n",
            "1875/1875 [==============================] - 3s 2ms/step - loss: 0.3400 - accuracy: 0.8803 - val_loss: 0.4041 - val_accuracy: 0.8586\n",
            "Epoch 9/10\n",
            "1875/1875 [==============================] - 3s 2ms/step - loss: 0.3350 - accuracy: 0.8804 - val_loss: 0.4004 - val_accuracy: 0.8593\n",
            "Epoch 10/10\n",
            "1875/1875 [==============================] - 3s 2ms/step - loss: 0.3294 - accuracy: 0.8835 - val_loss: 0.3897 - val_accuracy: 0.8629\n"
          ],
          "name": "stdout"
        }
      ]
    },
    {
      "cell_type": "code",
      "metadata": {
        "id": "EUQ7mJsf_ngN",
        "colab_type": "code",
        "colab": {
          "base_uri": "https://localhost:8080/",
          "height": 289
        },
        "outputId": "807f8408-8d06-4998-8df2-3ccd05d16d2c"
      },
      "source": [
        "stop = EarlyStopping(monitor='val_accuracy', min_delta=0.01, patience=3)\n",
        "\n",
        "model2 = Sequential([\n",
        "      Flatten(input_shape=(28, 28)),\n",
        "      Dense(15, activation='relu'),\n",
        "      Dense(10, activation='softmax')\n",
        "  ])\n",
        "\n",
        "model2.compile(loss = 'categorical_crossentropy', optimizer='nadam', metrics=['accuracy'])\n",
        "\n",
        "history = model2.fit(\n",
        "      x = X_train, \n",
        "      y = y_train,\n",
        "      epochs = 100,\n",
        "      validation_data = (X_test, y_test),\n",
        "      callbacks = [stop]\n",
        "  )"
      ],
      "execution_count": 15,
      "outputs": [
        {
          "output_type": "stream",
          "text": [
            "Epoch 1/100\n",
            "1875/1875 [==============================] - 3s 2ms/step - loss: 0.5896 - accuracy: 0.7986 - val_loss: 0.4913 - val_accuracy: 0.8284\n",
            "Epoch 2/100\n",
            "1875/1875 [==============================] - 3s 2ms/step - loss: 0.4393 - accuracy: 0.8468 - val_loss: 0.4520 - val_accuracy: 0.8396\n",
            "Epoch 3/100\n",
            "1875/1875 [==============================] - 3s 2ms/step - loss: 0.4118 - accuracy: 0.8564 - val_loss: 0.4561 - val_accuracy: 0.8424\n",
            "Epoch 4/100\n",
            "1875/1875 [==============================] - 3s 2ms/step - loss: 0.3990 - accuracy: 0.8602 - val_loss: 0.4402 - val_accuracy: 0.8451\n",
            "Epoch 5/100\n",
            "1875/1875 [==============================] - 3s 2ms/step - loss: 0.3890 - accuracy: 0.8639 - val_loss: 0.4282 - val_accuracy: 0.8512\n",
            "Epoch 6/100\n",
            "1875/1875 [==============================] - 3s 2ms/step - loss: 0.3823 - accuracy: 0.8670 - val_loss: 0.4414 - val_accuracy: 0.8447\n",
            "Epoch 7/100\n",
            "1875/1875 [==============================] - 3s 2ms/step - loss: 0.3755 - accuracy: 0.8679 - val_loss: 0.4141 - val_accuracy: 0.8521\n",
            "Epoch 8/100\n",
            "1875/1875 [==============================] - 3s 2ms/step - loss: 0.3687 - accuracy: 0.8706 - val_loss: 0.4193 - val_accuracy: 0.8503\n"
          ],
          "name": "stdout"
        }
      ]
    },
    {
      "cell_type": "code",
      "metadata": {
        "id": "mh6qHlhr_vrE",
        "colab_type": "code",
        "colab": {
          "base_uri": "https://localhost:8080/",
          "height": 34
        },
        "outputId": "93452220-8c8f-4935-fcae-d71f0513627e"
      },
      "source": [
        "history.history.keys()"
      ],
      "execution_count": 16,
      "outputs": [
        {
          "output_type": "execute_result",
          "data": {
            "text/plain": [
              "dict_keys(['loss', 'accuracy', 'val_loss', 'val_accuracy'])"
            ]
          },
          "metadata": {
            "tags": []
          },
          "execution_count": 16
        }
      ]
    },
    {
      "cell_type": "code",
      "metadata": {
        "id": "Txjd9MFn_xEE",
        "colab_type": "code",
        "colab": {
          "base_uri": "https://localhost:8080/",
          "height": 295
        },
        "outputId": "bc70f1fc-a1fd-444b-c2a1-d13f356f159f"
      },
      "source": [
        "plt.plot(history.history['loss'])\n",
        "plt.plot(history.history['val_loss'])\n",
        "plt.title('Model Loss')\n",
        "plt.ylabel('Loss')\n",
        "plt.xlabel('Epoch')\n",
        "plt.legend(['train', 'test'], loc='upper right')\n",
        "plt.show();"
      ],
      "execution_count": 17,
      "outputs": [
        {
          "output_type": "display_data",
          "data": {
            "image/png": "[encoded data removed]",
            "text/plain": [
              "<Figure size 432x288 with 1 Axes>"
            ]
          },
          "metadata": {
            "tags": [],
            "needs_background": "light"
          }
        }
      ]
    },
    {
      "cell_type": "code",
      "metadata": {
        "id": "qfGraHRa_yyj",
        "colab_type": "code",
        "colab": {
          "base_uri": "https://localhost:8080/",
          "height": 295
        },
        "outputId": "a4af8144-a106-4fe5-d6cc-e8b6472d4c2d"
      },
      "source": [
        "plt.plot(history.history['accuracy'])\n",
        "plt.plot(history.history['val_accuracy'])\n",
        "plt.title('Model Accuracy')\n",
        "plt.ylabel('Accuracy')\n",
        "plt.xlabel('Epoch')\n",
        "plt.legend(['train', 'test'], loc='upper left')\n",
        "plt.show();"
      ],
      "execution_count": 18,
      "outputs": [
        {
          "output_type": "display_data",
          "data": {
            "image/png": "[encoded data removed]",
            "text/plain": [
              "<Figure size 432x288 with 1 Axes>"
            ]
          },
          "metadata": {
            "tags": [],
            "needs_background": "light"
          }
        }
      ]
    },
    {
      "cell_type": "markdown",
      "metadata": {
        "colab_type": "text",
        "id": "zv_3xNMjzdLI"
      },
      "source": [
        "## Stretch Goals:\n",
        "\n",
        "- Use Hyperparameter Tuning to make the accuracy of your models as high as possible. (error as low as possible)\n",
        "- Use Cross Validation techniques to get more consistent results with your model.\n",
        "- Use GridSearchCV to try different combinations of hyperparameters. \n",
        "- Start looking into other types of Keras layers for CNNs and RNNs maybe try and build a CNN model for fashion-MNIST to see how the results compare."
      ]
    }
  ]
}